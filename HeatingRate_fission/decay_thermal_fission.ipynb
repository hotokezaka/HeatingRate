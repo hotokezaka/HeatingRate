{
 "cells": [
  {
   "cell_type": "code",
   "execution_count": 1,
   "metadata": {},
   "outputs": [],
   "source": [
    "import numpy as np\n",
    "import matplotlib.pyplot as plt\n",
    "from matplotlib.ticker import NullFormatter\n",
    "from astropy.constants import R_jup, R_sun, R_earth, au, M_sun\n",
    "import pandas as pd\n",
    "import seaborn as sns\n",
    "sns.set_style('ticks')\n",
    "sns.set_context('paper')\n",
    "from numpy import pi\n",
    "from scipy import optimize\n",
    "\n",
    "import bateman as bt\n",
    "import thermalization as th\n",
    "import heat_fission as ht\n",
    "#import thermalization as th\n",
    "#import heat as ht\n",
    "\n",
    "kb =1.38064852e-16\n",
    "h = 6.62607004e-27\n",
    "c = 2.99792458e10\n",
    "eV = 1.60218e-12\n",
    "MeV = 1.0e6*eV\n",
    "me = 9.10938356e-28\n",
    "e = 4.803204e-10\n",
    "mu = 1.66054e-24\n",
    "day = 86400.\n",
    "Msun = 1.9885e33\n",
    "\n",
    "%matplotlib inline\n",
    "%load_ext autoreload\n",
    "%autoreload 2"
   ]
  },
  {
   "cell_type": "markdown",
   "metadata": {},
   "source": [
    "Read effective opacities to gamma-rays for each elements."
   ]
  },
  {
   "cell_type": "code",
   "execution_count": 2,
   "metadata": {},
   "outputs": [],
   "source": [
    "#fkappa = pd.read_csv('effective_kappa_A141_238.dat',delim_whitespace=True,header=None)\n",
    "fkappa = pd.read_csv('input_files/effective_kappa_A85_238.dat',delim_whitespace=True,header=None)\n",
    "#fkappa = pd.read_csv('effective_kappa_141_238.dat',delim_whitespace=True,header=None)\n",
    "\n",
    "kappa_effs = 0.02*np.ones((240,100))\n",
    "for i in range(0,len(fkappa)):\n",
    "    A = fkappa[0][i]\n",
    "    Z = fkappa[1][i]\n",
    "    kappa = np.sqrt(fkappa[3][i]*fkappa[4][i])\n",
    "    kappa_effs[A][Z] = kappa\n"
   ]
  },
  {
   "cell_type": "markdown",
   "metadata": {},
   "source": [
    "Read abundances (number fraction) of each beta-decay chain. \n",
    "The file format is\n",
    "(Z A Y), where Z is an atomic number, A is an atomic mass number, and Y is a number fraction."
   ]
  },
  {
   "cell_type": "code",
   "execution_count": 3,
   "metadata": {},
   "outputs": [],
   "source": [
    "ffraction = pd.read_csv('input_files/solar_r_abundance_pattern.dat',delim_whitespace=True,header=None)"
   ]
  },
  {
   "cell_type": "markdown",
   "metadata": {},
   "source": [
    "Define the range of atomic numbers of beta-decay chains and the ejecta model (density profile).\n",
    "we use a radial density profile of merger ejecta with a total mass of \n",
    "$M_{\\rm ej}$ and a minimum velocity of $v_0$:\n",
    "\\begin{eqnarray}\n",
    "  \\rho(t,v) = \n",
    "        \\rho_0(t)\\left(\\frac{v_{\\rm ej}}{v_0}\\right)^{-n} for (v_0\\leq v_{\\rm ej}\\leq v_{\\rm max})\n",
    "\\end{eqnarray}\n",
    "where $\\rho_0(t)$ is defined such that \n",
    "\\begin{eqnarray}\n",
    "M_{\\rm ej} = 4\\pi \\int_{v_0}^{v_{\\rm max}}dvv^2 \\rho(t,v).\n",
    "\\end{eqnarray}"
   ]
  },
  {
   "cell_type": "code",
   "execution_count": 12,
   "metadata": {},
   "outputs": [],
   "source": [
    "##########Start input parameters\n",
    "Amin = 88\n",
    "Amax = 238\n",
    "\n",
    "##########ejecta parameters for thermalization\n",
    "Mej = 0.05*Msun\n",
    "vej = 0.1*c\n",
    "n = 4.5\n",
    "alpha_max = 4.0#v_max = alpha_max * vej\n",
    "alpha_min = 1.#v_min = alpha_min * vej"
   ]
  },
  {
   "cell_type": "markdown",
   "metadata": {},
   "source": [
    "Calculate the beta decay radioactive power and heating rate."
   ]
  },
  {
   "cell_type": "code",
   "execution_count": 9,
   "metadata": {
    "scrolled": true
   },
   "outputs": [],
   "source": [
    "beta = ht.calc_heating_rate(Mej,vej, Amin,Amax,ffraction,kappa_effs,alpha_max,alpha_min,n)"
   ]
  },
  {
   "cell_type": "markdown",
   "metadata": {},
   "source": [
    "Input abundances (number fraction) of each element.\n",
    "\n",
    "fission_A = atomic mass number of an element disintegrated via spontaneous fission.\n",
    "\n",
    "fission_Y = number abundance of an element disintegrated via spontaneous fission."
   ]
  },
  {
   "cell_type": "code",
   "execution_count": 5,
   "metadata": {},
   "outputs": [],
   "source": [
    "######### fission nuclide 254Cf ########\n",
    "ffission_A = []\n",
    "ffission_Y =[]\n",
    "ffission_A.append(254) #atomic mass number\n",
    "ffission_Y.append(2.0e-6) #number abundance"
   ]
  },
  {
   "cell_type": "markdown",
   "metadata": {},
   "source": [
    "Calculate the spontaneous fission radioactive power and heating rate."
   ]
  },
  {
   "cell_type": "code",
   "execution_count": 6,
   "metadata": {},
   "outputs": [],
   "source": [
    "fission = ht.calc_heating_rate_sf(Mej,vej, Amin,Amax,ffraction,ffission_A,ffission_Y,kappa_effs,alpha_max,alpha_min,n)"
   ]
  },
  {
   "cell_type": "markdown",
   "metadata": {},
   "source": [
    "Save the data."
   ]
  },
  {
   "cell_type": "code",
   "execution_count": 10,
   "metadata": {},
   "outputs": [],
   "source": [
    "data = {'t':beta['t'],'total':beta['total'],'gamma':beta['gamma'], 'electron':beta['electron'], 'gamma_th':beta['gamma_th'],'electron_th':beta['electron_th']}\n",
    "df = pd.DataFrame(data=data)\n",
    "df.to_csv('output_files/heat_beta_88_209_M005_v04_v1_n45.dat',sep=\" \",index=False,header=None,columns=['t', 'total', 'gamma', 'electron','gamma_th','electron_th'])"
   ]
  },
  {
   "cell_type": "code",
   "execution_count": 8,
   "metadata": {},
   "outputs": [],
   "source": [
    "data = {'t':fission['t'],'total':fission['fission'],'fission_th':fission['fission_th']}\n",
    "df = pd.DataFrame(data=data)\n",
    "df.to_csv('output_files/heat_fission_M005_v04_v1_n45.dat',sep=\" \",index=False,header=None,columns=['t', 'total', 'fission_th'])"
   ]
  },
  {
   "cell_type": "code",
   "execution_count": 14,
   "metadata": {},
   "outputs": [
    {
     "data": {
      "image/png": "[encoded data removed]",
      "text/plain": [
       "<matplotlib.figure.Figure at 0x10c2eca20>"
      ]
     },
     "metadata": {},
     "output_type": "display_data"
    }
   ],
   "source": [
    "plt.ylim(1.0e6,1.0e11)\n",
    "plt.xlim(0.1,300.)\n",
    "plt.loglog(fission['t'],np.multiply(fission['fission'],1.))\n",
    "plt.loglog(fission['t'],np.multiply(fission['fission_th'],1.),linestyle=':')\n",
    "plt.loglog(beta['t'],np.multiply(beta['electron_th'],1.),linestyle='-')\n",
    "plt.savefig('output_files/heat.pdf')\n",
    "plt.show()"
   ]
  },
  {
   "cell_type": "code",
   "execution_count": null,
   "metadata": {},
   "outputs": [],
   "source": []
  }
 ],
 "metadata": {
  "kernelspec": {
   "display_name": "Python 3",
   "language": "python",
   "name": "python3"
  },
  "language_info": {
   "codemirror_mode": {
    "name": "ipython",
    "version": 3
   },
   "file_extension": ".py",
   "mimetype": "text/x-python",
   "name": "python",
   "nbconvert_exporter": "python",
   "pygments_lexer": "ipython3",
   "version": "3.6.4"
  }
 },
 "nbformat": 4,
 "nbformat_minor": 2
}
