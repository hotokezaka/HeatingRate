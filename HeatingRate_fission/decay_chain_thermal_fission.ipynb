{
 "cells": [
  {
   "cell_type": "code",
   "execution_count": 30,
   "metadata": {},
   "outputs": [
    {
     "name": "stdout",
     "output_type": "stream",
     "text": [
      "The autoreload extension is already loaded. To reload it, use:\n",
      "  %reload_ext autoreload\n"
     ]
    }
   ],
   "source": [
    "import numpy as np\n",
    "import matplotlib.pyplot as plt\n",
    "from matplotlib.ticker import NullFormatter\n",
    "import pandas as pd\n",
    "import seaborn as sns\n",
    "from numpy import pi\n",
    "from scipy import optimize\n",
    "\n",
    "import bateman as bt\n",
    "import thermalization as th\n",
    "import heat_fission as ht\n",
    "import lightcurve as lc\n",
    "\n",
    "c = 2.99792458e10\n",
    "day = 86400.\n",
    "Msun = 1.9885e33\n",
    "\n",
    "%matplotlib inline\n",
    "%load_ext autoreload\n",
    "%autoreload 2"
   ]
  },
  {
   "cell_type": "markdown",
   "metadata": {},
   "source": [
    "<font size=\"4.5\"> \n",
    "- Read effective opacities to gamma-rays for each elements<br>\n",
    "</font>\n",
    "The effective opacity of each nuclide is given by a geometric mean of the mass and energy attenuations weighted by the energy fraction of lines."
   ]
  },
  {
   "cell_type": "code",
   "execution_count": 3,
   "metadata": {},
   "outputs": [],
   "source": [
    "#fkappa = pd.read_csv('effective_kappa_A141_238.dat',delim_whitespace=True,header=None)\n",
    "fkappa = pd.read_csv('input_files/effective_kappa_A85_238.dat',delim_whitespace=True,header=None)\n",
    "#fkappa = pd.read_csv('effective_kappa_141_238.dat',delim_whitespace=True,header=None)\n",
    "\n",
    "kappa_effs = 0.02*np.ones((240,100))\n",
    "for i in range(0,len(fkappa)):\n",
    "    A = fkappa[0][i]\n",
    "    Z = fkappa[1][i]\n",
    "    kappa = np.sqrt(fkappa[3][i]*fkappa[4][i])\n",
    "    kappa_effs[A][Z] = kappa\n"
   ]
  },
  {
   "cell_type": "markdown",
   "metadata": {},
   "source": [
    "<font size=\"4.5\"> \n",
    "- Read abundances of each beta-decay chain <br>\n",
    "</font>\n",
    "The file format is\n",
    "(Z A Y), where Z is an atomic number, A is an atomic mass number, and Y is a number fraction."
   ]
  },
  {
   "cell_type": "code",
   "execution_count": 4,
   "metadata": {},
   "outputs": [],
   "source": [
    "ffraction = pd.read_csv('input_files/solar_r_abundance_pattern.dat',delim_whitespace=True,header=None)"
   ]
  },
  {
   "cell_type": "markdown",
   "metadata": {},
   "source": [
    "<font size=\"4.5\">\n",
    "- Define the range of atomic numbers of beta-decay chains and the ejecta model (density profile). <br>\n",
    "</font>\n",
    "we use a radial density profile of merger ejecta with a total mass of \n",
    "$M_{\\rm ej}$ and a minimum velocity of $v_0$:\n",
    "\\begin{eqnarray}\n",
    "  \\rho(t,v) = \n",
    "        \\rho_0(t)\\left(\\frac{v_{\\rm ej}}{v_0}\\right)^{-n} for (v_0\\leq v_{\\rm ej}\\leq v_{\\rm max})\n",
    "\\end{eqnarray}\n",
    "where $\\rho_0(t)$ is defined such that \n",
    "\\begin{eqnarray}\n",
    "M_{\\rm ej} = 4\\pi \\int_{v_0}^{v_{\\rm max}}dvv^2 \\rho(t,v).\n",
    "\\end{eqnarray}"
   ]
  },
  {
   "cell_type": "code",
   "execution_count": 6,
   "metadata": {},
   "outputs": [],
   "source": [
    "##########Start input parameters\n",
    "Amin = 85\n",
    "Amax = 209\n",
    "\n",
    "##########ejecta parameters for thermalization\n",
    "Mej = 0.05*Msun\n",
    "vej = 0.1*c\n",
    "n = 4.5\n",
    "alpha_max = 4.0#v_max = alpha_max * vej\n",
    "alpha_min = 1.#v_min = alpha_min * vej"
   ]
  },
  {
   "cell_type": "markdown",
   "metadata": {},
   "source": [
    "<font size=\"4.5\">\n",
    "- Calculate the beta decay radioactive power and heating rate<br>\n",
    "</font>"
   ]
  },
  {
   "cell_type": "code",
   "execution_count": 17,
   "metadata": {
    "scrolled": true
   },
   "outputs": [],
   "source": [
    "beta = ht.calc_heating_rate(Mej,vej, Amin,Amax,ffraction,kappa_effs,alpha_max,alpha_min,n)"
   ]
  },
  {
   "cell_type": "markdown",
   "metadata": {},
   "source": [
    "<font size=\"4.5\">\n",
    "- Input abundances (number fraction) of each element<br>\n",
    "</font>\n",
    "fission_A = atomic mass number of an element disintegrated via spontaneous fission.\n",
    "\n",
    "fission_Y = number abundance of an element disintegrated via spontaneous fission (currently, only 245 Cf is available)."
   ]
  },
  {
   "cell_type": "code",
   "execution_count": 58,
   "metadata": {},
   "outputs": [],
   "source": [
    "######### fission nuclide 254Cf ########\n",
    "ffission_A = []\n",
    "ffission_Y =[]\n",
    "ffission_A.append(254) #atomic mass number\n",
    "ffission_Y.append(2.0e-6) #number abundance"
   ]
  },
  {
   "cell_type": "markdown",
   "metadata": {},
   "source": [
    "<font size=\"4.5\">\n",
    "- Calculate the spontaneous fission radioactive power and heating rate<br>\n",
    "</font>"
   ]
  },
  {
   "cell_type": "code",
   "execution_count": 53,
   "metadata": {},
   "outputs": [],
   "source": [
    "fission = ht.calc_heating_rate_sf(Mej,vej, Amin,Amax,ffraction,ffission_A,ffission_Y,kappa_effs,alpha_max,alpha_min,n)"
   ]
  },
  {
   "cell_type": "markdown",
   "metadata": {},
   "source": [
    "<font size=\"4.5\"> \n",
    "- Write the data to a file<br>\n",
    "</font>\n",
    "t:[day], heating rates: [erg/s/g]"
   ]
  },
  {
   "cell_type": "code",
   "execution_count": 10,
   "metadata": {},
   "outputs": [],
   "source": [
    "data = {'t':beta['t'],'total':beta['total'],'gamma':beta['gamma'], 'electron':beta['electron'], 'gamma_th':beta['gamma_th'],'electron_th':beta['electron_th']}\n",
    "df = pd.DataFrame(data=data)\n",
    "df.to_csv('output_files/heat_beta_88_209_M005_v04_v1_n45.dat',sep=\" \",index=False,header=None,columns=['t', 'total', 'gamma', 'electron','gamma_th','electron_th'])"
   ]
  },
  {
   "cell_type": "code",
   "execution_count": 8,
   "metadata": {},
   "outputs": [],
   "source": [
    "data = {'t':fission['t'],'total':fission['fission'],'fission_th':fission['fission_th']}\n",
    "df = pd.DataFrame(data=data)\n",
    "df.to_csv('output_files/heat_fission_M005_v04_v1_n45.dat',sep=\" \",index=False,header=None,columns=['t', 'total', 'fission_th'])"
   ]
  },
  {
   "cell_type": "code",
   "execution_count": 54,
   "metadata": {},
   "outputs": [
    {
     "data": {
      "image/png": "[encoded data removed]",
      "text/plain": [
       "<matplotlib.figure.Figure at 0x1a1f4ef7d0>"
      ]
     },
     "metadata": {},
     "output_type": "display_data"
    }
   ],
   "source": [
    "plt.ylim(1.0e6,1.0e11)\n",
    "plt.xlim(0.1,300.)\n",
    "plt.loglog(fission['t'],np.multiply(fission['fission'],1.))\n",
    "plt.loglog(fission['t'],np.multiply(fission['fission_th'],1.),linestyle=':')\n",
    "plt.loglog(beta['t'],np.multiply(beta['electron_th'],1.),linestyle='-')\n",
    "#plt.savefig('output_files/heat.pdf')\n",
    "plt.show()"
   ]
  },
  {
   "cell_type": "markdown",
   "metadata": {},
   "source": [
    "<font size=\"4.5\"> \n",
    "- Bolometric light curve and temperature at the photosphere<br>\n",
    "</font>\n",
    "The opacities of the inner and outer parts of the ejecta are set to be\n",
    "\\begin{eqnarray}\n",
    "\\kappa=\\kappa_{\\rm high}~{\\rm for}~(v\\leq v_{\\kappa})~~~~{\\rm and}~~~~\\kappa=\\kappa_{\\rm low}~{\\rm for}~(v>v_{\\kappa})\n",
    "\\end{eqnarray}"
   ]
  },
  {
   "cell_type": "code",
   "execution_count": 55,
   "metadata": {},
   "outputs": [],
   "source": [
    "#input parameters for the calculation of a light curve\n",
    "kappa_low = 0.5  #opacity [cm^2/g] for v > v_kappa\n",
    "kappa_high = 3.0 #opacity [cm^2/g] for v < v_kappa\n",
    "be_kappa = 0.14\n",
    "\n",
    "heat_time = np.array(beta['t'])\n",
    "heat_rate = np.array(beta['electron_th'])+np.array(beta['gamma_th'])+np.array(fission['fission_th'])"
   ]
  },
  {
   "cell_type": "markdown",
   "metadata": {},
   "source": [
    "<font size=\"4.5\"> \n",
    "- Compute the bolometric light curve and temperature at the photosphere<br>\n",
    "</font>"
   ]
  },
  {
   "cell_type": "code",
   "execution_count": 56,
   "metadata": {},
   "outputs": [],
   "source": [
    "LC = lc.calc_lightcurve(Mej,vej,alpha_max,alpha_min,n,kappa_low,kappa_high,be_kappa,heat_time, heat_rate)"
   ]
  },
  {
   "cell_type": "markdown",
   "metadata": {},
   "source": [
    "<font size=\"4.5\"> \n",
    "- Write the data to a file<br>\n",
    "</font>\n",
    "t: [day], light curve: [erg/s], temperature: [K]"
   ]
  },
  {
   "cell_type": "code",
   "execution_count": 35,
   "metadata": {},
   "outputs": [],
   "source": [
    "data = {'t':LC['t'],'LC':LC['LC'],'Temp':LC['T']}\n",
    "df = pd.DataFrame(data=data)\n",
    "df.to_csv('output_files/lightcurve.dat',sep=\" \",index=False,header=None,columns=['t', 'LC', 'Temp'])"
   ]
  },
  {
   "cell_type": "code",
   "execution_count": 57,
   "metadata": {},
   "outputs": [
    {
     "data": {
      "image/png": "[encoded data removed]",
      "text/plain": [
       "<matplotlib.figure.Figure at 0x1a1f640bd0>"
      ]
     },
     "metadata": {},
     "output_type": "display_data"
    }
   ],
   "source": [
    "from matplotlib import rc\n",
    "rc('text', usetex=True)\n",
    "sns.set(style='ticks',font_scale=1.4)\n",
    "fig, ax = plt.subplots(figsize=(6.472135955, 4))\n",
    "plt.xlim(0.1,30.)\n",
    "plt.ylim(1.0e39,3.0e42)\n",
    "plt.ylabel(r\"$L_{\\rm bol}~[{\\rm erg/s}]$\")\n",
    "plt.xlabel(r\"${\\rm Time~since~merger~[day]}$\")\n",
    "plt.loglog(LC['t'],LC['LC'],label='bolometric',linestyle='-',linewidth=1.5,color='k')\n",
    "\n",
    "#plt.text(30,1.0e11,'$88\\leq A\\leq 209$',fontsize=13.5)\n",
    "\n",
    "plt.legend(loc='lower left',fontsize=14)\n",
    "#plt.savefig(\"output_files/LC_A85.pdf\",dpi=600,bbox_inches='tight')\n",
    "plt.show()"
   ]
  },
  {
   "cell_type": "code",
   "execution_count": null,
   "metadata": {},
   "outputs": [],
   "source": []
  }
 ],
 "metadata": {
  "kernelspec": {
   "display_name": "Python 2",
   "language": "python",
   "name": "python2"
  },
  "language_info": {
   "codemirror_mode": {
    "name": "ipython",
    "version": 2
   },
   "file_extension": ".py",
   "mimetype": "text/x-python",
   "name": "python",
   "nbconvert_exporter": "python",
   "pygments_lexer": "ipython2",
   "version": "2.7.14"
  }
 },
 "nbformat": 4,
 "nbformat_minor": 2
}
