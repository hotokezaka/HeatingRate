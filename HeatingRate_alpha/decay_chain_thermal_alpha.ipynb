{
 "cells": [
  {
   "cell_type": "code",
   "execution_count": 11,
   "metadata": {},
   "outputs": [
    {
     "name": "stdout",
     "output_type": "stream",
     "text": [
      "The autoreload extension is already loaded. To reload it, use:\n",
      "  %reload_ext autoreload\n"
     ]
    }
   ],
   "source": [
    "import numpy as np\n",
    "import matplotlib.pyplot as plt\n",
    "from matplotlib.ticker import NullFormatter\n",
    "import pandas as pd\n",
    "from numpy import pi\n",
    "from scipy import optimize\n",
    "import bateman as bt\n",
    "import thermalization as th\n",
    "import heat_alpha as ht\n",
    "import lightcurve as lc\n",
    "\n",
    "from astropy import constants as const"
    "c = const.c.cgs.value\n",
    "day = 86400.\n",
    "Msun = const.M_sun.cgs.value\n",
    "\n",
    "%matplotlib inline\n",
    "%load_ext autoreload\n",
    "%autoreload 2"
   ]
  },
  {
   "cell_type": "markdown",
   "metadata": {},
   "source": [
    "<font size=\"4.5\"> \n",
    "- Read effective opacities to gamma-rays for each elements<br>\n",
    "</font>"
   ]
  },
  {
   "cell_type": "code",
   "execution_count": 2,
   "metadata": {},
   "outputs": [],
   "source": [
    "fkappa = pd.read_csv('input_files/effective_kappa_A85_238.dat',delim_whitespace=True,header=None)\n",
    "kappa_effs = 0.02*np.ones((240,100))\n",
    "for i in range(0,len(fkappa)):\n",
    "    A = fkappa[0][i]\n",
    "    Z = fkappa[1][i]\n",
    "    kappa = np.sqrt(fkappa[3][i]*fkappa[4][i])\n",
    "    kappa_effs[A][Z] = kappa"
   ]
  },
  {
   "cell_type": "markdown",
   "metadata": {},
   "source": [
    "<font size=\"4.5\"> \n",
    "- Read abundances of each beta-decay chain <br>\n",
    "</font>\n",
    "The file format is\n",
    "(Z A Y), where Z is an atomic number, A is an atomic mass number, and Y is a number fraction.The following example file corresponds to the solar r-process pattern with A>=70. (beta-decay chains between A=50 and 209 can be included.)"
   ]
  },
  {
   "cell_type": "code",
   "execution_count": 3,
   "metadata": {},
   "outputs": [],
   "source": [
    "ffraction = pd.read_csv('input_files/solar_r_abundance_pattern.dat',delim_whitespace=True,header=None)"
   ]
  },
  {
   "cell_type": "markdown",
   "metadata": {},
   "source": [
    "<font size=\"4.5\">\n",
    "- Define the range of atomic numbers of beta-decay chains and the ejecta model (density profile). <br>\n",
    "</font>\n",
    "we use a radial density profile of merger ejecta with a total mass of \n",
    "$M_{\\rm ej}$ and a minimum velocity of $v_0$:\n",
    "\\begin{eqnarray}\n",
    "  \\rho(t,v) = \n",
    "        \\rho_0(t)\\left(\\frac{v_{\\rm ej}}{v_0}\\right)^{-n} for (v_0\\leq v_{\\rm ej}\\leq v_{\\rm max})\n",
    "\\end{eqnarray}\n",
    "where $\\rho_0(t)$ is defined such that \n",
    "\\begin{eqnarray}\n",
    "M_{\\rm ej} = 4\\pi \\int_{v_0}^{v_{\\rm max}}dvv^2 \\rho(t,v).\n",
    "\\end{eqnarray}"
   ]
  },
  {
   "cell_type": "code",
   "execution_count": 26,
   "metadata": {},
   "outputs": [],
   "source": [
    "##########Start input parameters\n",
    "Amin = 88\n",
    "Amax = 209\n",
    "\n",
    "##########ejecta parameters for thermalization\n",
    "Mej = 0.023*Msun\n",
    "vej = 0.1*c\n",
    "n = 4.5\n",
    "alpha_max = 4.0#v_max = alpha_max * vej\n",
    "alpha_min = 1.#v_min = alpha_min * vej"
   ]
  },
  {
   "cell_type": "markdown",
   "metadata": {},
   "source": [
    "Input abundances (number fraction) of each alpha-decay chain. \n",
    "Yas[A] = number abundance of alpha decay chain starting with A (can be from 209 to 238). The following example is taken from Wu et al (2018)."
   ]
  },
  {
   "cell_type": "code",
   "execution_count": 6,
   "metadata": {},
   "outputs": [],
   "source": [
    "Yas = np.zeros(239)\n",
    "Yas[222] = 4.0e-5\n",
    "Yas[223] = 2.7e-5\n",
    "Yas[224] = 4.1e-5\n",
    "Yas[225] = 2.7e-5"
   ]
  },
  {
   "cell_type": "markdown",
   "metadata": {},
   "source": [
    "<font size=\"4.5\"> \n",
    "- Calculate the beta  decay radioactive power and heating rate <br>\n",
    "</font>"
   ]
  },
  {
   "cell_type": "code",
   "execution_count": 27,
   "metadata": {
    "scrolled": true
   },
   "outputs": [],
   "source": [
    "beta = ht.calc_heating_rate(Mej,vej, Amin,Amax,ffraction,kappa_effs,alpha_max,alpha_min,n)"
   ]
  },
  {
   "cell_type": "markdown",
   "metadata": {},
   "source": [
    "Calculate the alpha decay radioactive power and heating rate."
   ]
  },
  {
   "cell_type": "code",
   "execution_count": 22,
   "metadata": {},
   "outputs": [],
   "source": [
    "alpha = ht.calc_heating_rate_alpha(Mej,vej, Amin,Amax,ffraction,Yas,kappa_effs,alpha_max,alpha_min,n)"
   ]
  },
  {
   "cell_type": "markdown",
   "metadata": {},
   "source": [
    "<font size=\"4.5\"> \n",
    "- Write the data to a file<br>\n",
    "</font>\n",
    "t:[day], heating rates: [erg/s/g]"
   ]
  },
  {
   "cell_type": "code",
   "execution_count": 18,
   "metadata": {},
   "outputs": [],
   "source": [
    "data = {'t':beta['t'],'total':beta['total'],'gamma':beta['gamma'], 'electron':beta['electron'], 'gamma_th':beta['gamma_th'],'electron_th':beta['electron_th']}\n",
    "df = pd.DataFrame(data=data)\n",
    "df.to_csv('output_files/heat_beta_88_209_M005_v04_v1_n45.dat',sep=\" \",index=False,header=None,columns=['t', 'total', 'gamma', 'electron','gamma_th','electron_th'])"
   ]
  },
  {
   "cell_type": "code",
   "execution_count": 9,
   "metadata": {},
   "outputs": [],
   "source": [
    "data = {'t':alpha['t'],'total':alpha['total'],'alpha':alpha['alpha'],'gamma':alpha['gamma'], 'electron':alpha['electron'],'alpha_th':alpha['alpha_th'], 'gamma_th':alpha['gamma_th'],'electron_th':alpha['electron_th']}\n",
    "df = pd.DataFrame(data=data)\n",
    "df.to_csv('output_files/heat_alpha_Wu19_88_209_M005_v04_v1_n45.dat',sep=\" \",index=False,header=None,columns=['t', 'total', 'alpha', 'gamma', 'electron','alpha_th','gamma_th','electron_th'])"
   ]
  },
  {
   "cell_type": "code",
   "execution_count": 30,
   "metadata": {},
   "outputs": [
    {
     "data": {
      "image/png": "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\n",
      "text/plain": [
       "<matplotlib.figure.Figure at 0x11a8e2dd0>"
      ]
     },
     "metadata": {},
     "output_type": "display_data"
    }
   ],
   "source": [
    "plt.ylim(1.0e7,1.0e11)\n",
    "plt.xlim(0.1,300.)\n",
    "plt.loglog(alpha['t'],np.multiply(alpha['alpha'],1.))\n",
    "plt.loglog(alpha['t'],np.multiply(alpha['total'],1.),linestyle='-.')\n",
    "plt.loglog(alpha['t'],np.multiply(alpha['alpha_th'],1.),linestyle=':')\n",
    "plt.loglog(beta['t'],np.multiply(beta['electron_th'],1.),linestyle='-')\n",
    "plt.savefig('output_files/heat.pdf')\n",
    "plt.show()"
   ]
  },
  {
   "cell_type": "markdown",
   "metadata": {
    "collapsed": true
   },
   "source": [
    "<font size=\"4.5\"> \n",
    "- Bolometric light curve and temperature at the photosphere<br>\n",
    "</font>\n",
    "The opacities of the inner and outer parts of the ejecta are set to be\n",
    "\\begin{eqnarray}\n",
    "\\kappa=\\kappa_{\\rm high}~{\\rm for}~(v\\leq v_{\\kappa})~~~~{\\rm and}~~~~\\kappa=\\kappa_{\\rm low}~{\\rm for}~(v>v_{\\kappa})\n",
    "\\end{eqnarray}"
   ]
  },
  {
   "cell_type": "code",
   "execution_count": 31,
   "metadata": {},
   "outputs": [],
   "source": [
    "#input parameters for the calculation of a light curve\n",
    "kappa_low = 0.5  #opacity [cm^2/g] for v > v_kappa\n",
    "kappa_high = 3.0 #opacity [cm^2/g] for v < v_kappa\n",
    "be_kappa = 0.14\n",
    "\n",
    "heat_time = np.array(beta['t'])\n",
    "heat_rate = np.array(beta['electron_th'])+np.array(beta['gamma_th'])+np.array(alpha['alpha_th'])+np.array(alpha['electron_th'])+np.array(alpha['gamma_th'])"
   ]
  },
  {
   "cell_type": "markdown",
   "metadata": {},
   "source": [
    "<font size=\"4.5\"> \n",
    "- Compute the bolometric light curve and temperature at the photosphere<br>\n",
    "</font>"
   ]
  },
  {
   "cell_type": "code",
   "execution_count": 32,
   "metadata": {},
   "outputs": [],
   "source": [
    "LC = lc.calc_lightcurve(Mej,vej,alpha_max,alpha_min,n,kappa_low,kappa_high,be_kappa,heat_time, heat_rate)"
   ]
  },
  {
   "cell_type": "markdown",
   "metadata": {},
   "source": [
    "<font size=\"4.5\"> \n",
    "- Write the data to a file<br>\n",
    "</font>\n",
    "t: [day], light curve: [erg/s], temperature: [K]"
   ]
  },
  {
   "cell_type": "code",
   "execution_count": 33,
   "metadata": {},
   "outputs": [],
   "source": [
    "data = {'t':LC['t'],'LC':LC['LC'],'Temp':LC['T']}\n",
    "df = pd.DataFrame(data=data)\n",
    "df.to_csv('output_files/lightcurve.dat',sep=\" \",index=False,header=None,columns=['t', 'LC', 'Temp'])"
   ]
  },
  {
   "cell_type": "code",
   "execution_count": 34,
   "metadata": {},
   "outputs": [
    {
     "data": {
      "image/png": "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\n",
      "text/plain": [
       "<matplotlib.figure.Figure at 0x114d14450>"
      ]
     },
     "metadata": {},
     "output_type": "display_data"
    }
   ],
   "source": [
    "from matplotlib import rc\n",
    "rc('text', usetex=True)\n",
    "fig, ax = plt.subplots(figsize=(6.472135955, 4))\n",
    "plt.xlim(0.1,30.)\n",
    "plt.ylim(1.0e39,3.0e42)\n",
    "plt.ylabel(r\"$L_{\\rm bol}~[{\\rm erg/s}]$\")\n",
    "plt.xlabel(r\"${\\rm Time~since~merger~[day]}$\")\n",
    "plt.loglog(LC['t'],LC['LC'],label='bolometric',linestyle='-',linewidth=1.5,color='k')\n",
    "\n",
    "#plt.text(30,1.0e11,'$88\\leq A\\leq 209$',fontsize=13.5)\n",
    "\n",
    "plt.legend(loc='lower left',fontsize=14)\n",
    "#plt.savefig(\"output_files/LC_A85.pdf\",dpi=600,bbox_inches='tight')\n",
    "plt.show()"
   ]
  },
  {
   "cell_type": "code",
   "execution_count": null,
   "metadata": {},
   "outputs": [],
   "source": []
  }
 ],
 "metadata": {
  "kernelspec": {
   "display_name": "Python 2",
   "language": "python",
   "name": "python2"
  },
  "language_info": {
   "codemirror_mode": {
    "name": "ipython",
    "version": 2
   },
   "file_extension": ".py",
   "mimetype": "text/x-python",
   "name": "python",
   "nbconvert_exporter": "python",
   "pygments_lexer": "ipython2",
   "version": "2.7.14"
  }
 },
 "nbformat": 4,
 "nbformat_minor": 2
}
